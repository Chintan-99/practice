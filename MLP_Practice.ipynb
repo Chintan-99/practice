{
  "nbformat": 4,
  "nbformat_minor": 0,
  "metadata": {
    "colab": {
      "name": "MLP_Practice.ipynb",
      "provenance": [],
      "collapsed_sections": [],
      "include_colab_link": true
    },
    "kernelspec": {
      "name": "python3",
      "display_name": "Python 3"
    },
    "language_info": {
      "name": "python"
    }
  },
  "cells": [
    {
      "cell_type": "markdown",
      "metadata": {
        "id": "view-in-github",
        "colab_type": "text"
      },
      "source": [
        "<a href=\"https://colab.research.google.com/github/Chintan-99/practice/blob/main/MLP_Practice.ipynb\" target=\"_parent\"><img src=\"https://colab.research.google.com/assets/colab-badge.svg\" alt=\"Open In Colab\"/></a>"
      ]
    },
    {
      "cell_type": "markdown",
      "source": [
        "The data set used in this notebook can be found at the following link:\n",
        "https://drive.google.com/drive/u/1/folders/1HbSr_zWEk7ZXZQWxuKbfbPtiilhCIVu1 \\\n",
        "Please use IITM Email ID to access it.\n",
        "\n",
        "**Here is a small description of the dataset:**\\\n",
        "**PassengerId** - A unique Id for each passenger. Each Id takes the form gggg_pp where gggg indicates a group the passenger is travelling with and pp is their number within the group. People in a group are often family members, but not always.\n",
        "\n",
        "**HomePlanet** - The planet the passenger departed from, typically their planet of permanent residence.\n",
        "\n",
        "**CryoSleep** - Indicates whether the passenger elected to be put into suspended animation for the duration of the voyage. Passengers in cryosleep are confined to their cabins.\n",
        "\n",
        "**Cabin** - The cabin number where the passenger is staying. Takes the form deck/num/side, where side can be either P for Port or S for Starboard.\n",
        "**Destination** - The planet the passenger will be debarking to.\n",
        "\n",
        "**Age** - The age of the passenger.\n",
        "\n",
        "**VIP** - Whether the passenger has paid for special VIP service during the voyage.\n",
        "\n",
        "**RoomService**, **FoodCourt**, **ShoppingMall**, **Spa**, **VRDeck** - Amount the passenger has billed at each of the Spaceship Titanic's many luxury amenities.\n",
        "\n",
        "**Name** - The first and last names of the passenger.\n",
        "\n",
        "**Transported** - Whether the passenger was transported to another dimension. This is the target, the column you are trying to predict.\n",
        "\n",
        "# We need to predict weather a passenger was **Transported** or not."
      ],
      "metadata": {
        "id": "XD7FuR5geRFD"
      }
    },
    {
      "cell_type": "code",
      "source": [
        "# Import Libraries\n",
        "from google.colab import files\n",
        "import numpy as np\n",
        "import pandas as pd\n",
        "import matplotlib.pyplot as plt\n",
        "import seaborn as sns"
      ],
      "metadata": {
        "id": "kOG1keZrgkOj"
      },
      "execution_count": null,
      "outputs": []
    },
    {
      "cell_type": "markdown",
      "source": [
        "### Task 1: Read the data and take out the target column from the data.\n"
      ],
      "metadata": {
        "id": "SkyzIR4jfopT"
      }
    },
    {
      "cell_type": "code",
      "source": [
        "data = pd.read_csv('/train.csv')\n",
        "data.head()"
      ],
      "metadata": {
        "id": "ctzTqmdJgQp-",
        "colab": {
          "base_uri": "https://localhost:8080/"
        },
        "outputId": "60678529-4a63-4877-95ce-3400b917dceb"
      },
      "execution_count": null,
      "outputs": [
        {
          "output_type": "execute_result",
          "data": {
            "text/plain": [
              "  PassengerId HomePlanet CryoSleep  Cabin  Destination   Age    VIP  \\\n",
              "0     0001_01     Europa     False  B/0/P  TRAPPIST-1e  39.0  False   \n",
              "1     0002_01      Earth     False  F/0/S  TRAPPIST-1e  24.0  False   \n",
              "2     0003_01     Europa     False  A/0/S  TRAPPIST-1e  58.0   True   \n",
              "3     0003_02     Europa     False  A/0/S  TRAPPIST-1e  33.0  False   \n",
              "4     0004_01      Earth     False  F/1/S  TRAPPIST-1e  16.0  False   \n",
              "\n",
              "   RoomService  FoodCourt  ShoppingMall     Spa  VRDeck               Name  \\\n",
              "0          0.0        0.0           0.0     0.0     0.0    Maham Ofracculy   \n",
              "1        109.0        9.0          25.0   549.0    44.0       Juanna Vines   \n",
              "2         43.0     3576.0           0.0  6715.0    49.0      Altark Susent   \n",
              "3          0.0     1283.0         371.0  3329.0   193.0       Solam Susent   \n",
              "4        303.0       70.0         151.0   565.0     2.0  Willy Santantines   \n",
              "\n",
              "   Transported  \n",
              "0        False  \n",
              "1         True  \n",
              "2        False  \n",
              "3        False  \n",
              "4         True  "
            ],
            "text/html": [
              "\n",
              "  <div id=\"df-75dfdc4c-11cb-4b61-93a4-3088ce40dd40\">\n",
              "    <div class=\"colab-df-container\">\n",
              "      <div>\n",
              "<style scoped>\n",
              "    .dataframe tbody tr th:only-of-type {\n",
              "        vertical-align: middle;\n",
              "    }\n",
              "\n",
              "    .dataframe tbody tr th {\n",
              "        vertical-align: top;\n",
              "    }\n",
              "\n",
              "    .dataframe thead th {\n",
              "        text-align: right;\n",
              "    }\n",
              "</style>\n",
              "<table border=\"1\" class=\"dataframe\">\n",
              "  <thead>\n",
              "    <tr style=\"text-align: right;\">\n",
              "      <th></th>\n",
              "      <th>PassengerId</th>\n",
              "      <th>HomePlanet</th>\n",
              "      <th>CryoSleep</th>\n",
              "      <th>Cabin</th>\n",
              "      <th>Destination</th>\n",
              "      <th>Age</th>\n",
              "      <th>VIP</th>\n",
              "      <th>RoomService</th>\n",
              "      <th>FoodCourt</th>\n",
              "      <th>ShoppingMall</th>\n",
              "      <th>Spa</th>\n",
              "      <th>VRDeck</th>\n",
              "      <th>Name</th>\n",
              "      <th>Transported</th>\n",
              "    </tr>\n",
              "  </thead>\n",
              "  <tbody>\n",
              "    <tr>\n",
              "      <th>0</th>\n",
              "      <td>0001_01</td>\n",
              "      <td>Europa</td>\n",
              "      <td>False</td>\n",
              "      <td>B/0/P</td>\n",
              "      <td>TRAPPIST-1e</td>\n",
              "      <td>39.0</td>\n",
              "      <td>False</td>\n",
              "      <td>0.0</td>\n",
              "      <td>0.0</td>\n",
              "      <td>0.0</td>\n",
              "      <td>0.0</td>\n",
              "      <td>0.0</td>\n",
              "      <td>Maham Ofracculy</td>\n",
              "      <td>False</td>\n",
              "    </tr>\n",
              "    <tr>\n",
              "      <th>1</th>\n",
              "      <td>0002_01</td>\n",
              "      <td>Earth</td>\n",
              "      <td>False</td>\n",
              "      <td>F/0/S</td>\n",
              "      <td>TRAPPIST-1e</td>\n",
              "      <td>24.0</td>\n",
              "      <td>False</td>\n",
              "      <td>109.0</td>\n",
              "      <td>9.0</td>\n",
              "      <td>25.0</td>\n",
              "      <td>549.0</td>\n",
              "      <td>44.0</td>\n",
              "      <td>Juanna Vines</td>\n",
              "      <td>True</td>\n",
              "    </tr>\n",
              "    <tr>\n",
              "      <th>2</th>\n",
              "      <td>0003_01</td>\n",
              "      <td>Europa</td>\n",
              "      <td>False</td>\n",
              "      <td>A/0/S</td>\n",
              "      <td>TRAPPIST-1e</td>\n",
              "      <td>58.0</td>\n",
              "      <td>True</td>\n",
              "      <td>43.0</td>\n",
              "      <td>3576.0</td>\n",
              "      <td>0.0</td>\n",
              "      <td>6715.0</td>\n",
              "      <td>49.0</td>\n",
              "      <td>Altark Susent</td>\n",
              "      <td>False</td>\n",
              "    </tr>\n",
              "    <tr>\n",
              "      <th>3</th>\n",
              "      <td>0003_02</td>\n",
              "      <td>Europa</td>\n",
              "      <td>False</td>\n",
              "      <td>A/0/S</td>\n",
              "      <td>TRAPPIST-1e</td>\n",
              "      <td>33.0</td>\n",
              "      <td>False</td>\n",
              "      <td>0.0</td>\n",
              "      <td>1283.0</td>\n",
              "      <td>371.0</td>\n",
              "      <td>3329.0</td>\n",
              "      <td>193.0</td>\n",
              "      <td>Solam Susent</td>\n",
              "      <td>False</td>\n",
              "    </tr>\n",
              "    <tr>\n",
              "      <th>4</th>\n",
              "      <td>0004_01</td>\n",
              "      <td>Earth</td>\n",
              "      <td>False</td>\n",
              "      <td>F/1/S</td>\n",
              "      <td>TRAPPIST-1e</td>\n",
              "      <td>16.0</td>\n",
              "      <td>False</td>\n",
              "      <td>303.0</td>\n",
              "      <td>70.0</td>\n",
              "      <td>151.0</td>\n",
              "      <td>565.0</td>\n",
              "      <td>2.0</td>\n",
              "      <td>Willy Santantines</td>\n",
              "      <td>True</td>\n",
              "    </tr>\n",
              "  </tbody>\n",
              "</table>\n",
              "</div>\n",
              "      <button class=\"colab-df-convert\" onclick=\"convertToInteractive('df-75dfdc4c-11cb-4b61-93a4-3088ce40dd40')\"\n",
              "              title=\"Convert this dataframe to an interactive table.\"\n",
              "              style=\"display:none;\">\n",
              "        \n",
              "  <svg xmlns=\"http://www.w3.org/2000/svg\" height=\"24px\"viewBox=\"0 0 24 24\"\n",
              "       width=\"24px\">\n",
              "    <path d=\"M0 0h24v24H0V0z\" fill=\"none\"/>\n",
              "    <path d=\"M18.56 5.44l.94 2.06.94-2.06 2.06-.94-2.06-.94-.94-2.06-.94 2.06-2.06.94zm-11 1L8.5 8.5l.94-2.06 2.06-.94-2.06-.94L8.5 2.5l-.94 2.06-2.06.94zm10 10l.94 2.06.94-2.06 2.06-.94-2.06-.94-.94-2.06-.94 2.06-2.06.94z\"/><path d=\"M17.41 7.96l-1.37-1.37c-.4-.4-.92-.59-1.43-.59-.52 0-1.04.2-1.43.59L10.3 9.45l-7.72 7.72c-.78.78-.78 2.05 0 2.83L4 21.41c.39.39.9.59 1.41.59.51 0 1.02-.2 1.41-.59l7.78-7.78 2.81-2.81c.8-.78.8-2.07 0-2.86zM5.41 20L4 18.59l7.72-7.72 1.47 1.35L5.41 20z\"/>\n",
              "  </svg>\n",
              "      </button>\n",
              "      \n",
              "  <style>\n",
              "    .colab-df-container {\n",
              "      display:flex;\n",
              "      flex-wrap:wrap;\n",
              "      gap: 12px;\n",
              "    }\n",
              "\n",
              "    .colab-df-convert {\n",
              "      background-color: #E8F0FE;\n",
              "      border: none;\n",
              "      border-radius: 50%;\n",
              "      cursor: pointer;\n",
              "      display: none;\n",
              "      fill: #1967D2;\n",
              "      height: 32px;\n",
              "      padding: 0 0 0 0;\n",
              "      width: 32px;\n",
              "    }\n",
              "\n",
              "    .colab-df-convert:hover {\n",
              "      background-color: #E2EBFA;\n",
              "      box-shadow: 0px 1px 2px rgba(60, 64, 67, 0.3), 0px 1px 3px 1px rgba(60, 64, 67, 0.15);\n",
              "      fill: #174EA6;\n",
              "    }\n",
              "\n",
              "    [theme=dark] .colab-df-convert {\n",
              "      background-color: #3B4455;\n",
              "      fill: #D2E3FC;\n",
              "    }\n",
              "\n",
              "    [theme=dark] .colab-df-convert:hover {\n",
              "      background-color: #434B5C;\n",
              "      box-shadow: 0px 1px 3px 1px rgba(0, 0, 0, 0.15);\n",
              "      filter: drop-shadow(0px 1px 2px rgba(0, 0, 0, 0.3));\n",
              "      fill: #FFFFFF;\n",
              "    }\n",
              "  </style>\n",
              "\n",
              "      <script>\n",
              "        const buttonEl =\n",
              "          document.querySelector('#df-75dfdc4c-11cb-4b61-93a4-3088ce40dd40 button.colab-df-convert');\n",
              "        buttonEl.style.display =\n",
              "          google.colab.kernel.accessAllowed ? 'block' : 'none';\n",
              "\n",
              "        async function convertToInteractive(key) {\n",
              "          const element = document.querySelector('#df-75dfdc4c-11cb-4b61-93a4-3088ce40dd40');\n",
              "          const dataTable =\n",
              "            await google.colab.kernel.invokeFunction('convertToInteractive',\n",
              "                                                     [key], {});\n",
              "          if (!dataTable) return;\n",
              "\n",
              "          const docLinkHtml = 'Like what you see? Visit the ' +\n",
              "            '<a target=\"_blank\" href=https://colab.research.google.com/notebooks/data_table.ipynb>data table notebook</a>'\n",
              "            + ' to learn more about interactive tables.';\n",
              "          element.innerHTML = '';\n",
              "          dataTable['output_type'] = 'display_data';\n",
              "          await google.colab.output.renderOutput(dataTable, element);\n",
              "          const docLink = document.createElement('div');\n",
              "          docLink.innerHTML = docLinkHtml;\n",
              "          element.appendChild(docLink);\n",
              "        }\n",
              "      </script>\n",
              "    </div>\n",
              "  </div>\n",
              "  "
            ]
          },
          "metadata": {},
          "execution_count": 257
        }
      ]
    },
    {
      "cell_type": "code",
      "source": [
        "y = data['Transported']\n",
        "X = data.drop(columns = ['Transported'],axis=1)"
      ],
      "metadata": {
        "id": "nZWZon0G4uTX"
      },
      "execution_count": null,
      "outputs": []
    },
    {
      "cell_type": "markdown",
      "source": [
        "Question 1: What wil be the shape of the feature matrix and the target column?"
      ],
      "metadata": {
        "id": "3aWJsZFlgJ1h"
      }
    },
    {
      "cell_type": "code",
      "execution_count": null,
      "metadata": {
        "id": "UMKzlQwDeLeI",
        "colab": {
          "base_uri": "https://localhost:8080/"
        },
        "outputId": "f876de79-f77c-4f1a-fbf8-0f444c97def4"
      },
      "outputs": [
        {
          "output_type": "execute_result",
          "data": {
            "text/plain": [
              "((8693, 13), (8693,))"
            ]
          },
          "metadata": {},
          "execution_count": 259
        }
      ],
      "source": [
        "X.shape, y.shape"
      ]
    },
    {
      "cell_type": "markdown",
      "source": [
        "Question 2: How many total NaN values are there in the column 'Age'?"
      ],
      "metadata": {
        "id": "1xEercfsg9AE"
      }
    },
    {
      "cell_type": "code",
      "source": [
        "X.isnull().sum()"
      ],
      "metadata": {
        "id": "ifwlTpmPg4ml",
        "colab": {
          "base_uri": "https://localhost:8080/"
        },
        "outputId": "8d1c9154-3219-4f8f-fdde-abfcf866e24b"
      },
      "execution_count": null,
      "outputs": [
        {
          "output_type": "execute_result",
          "data": {
            "text/plain": [
              "PassengerId       0\n",
              "HomePlanet      201\n",
              "CryoSleep       217\n",
              "Cabin           199\n",
              "Destination     182\n",
              "Age             179\n",
              "VIP             203\n",
              "RoomService     181\n",
              "FoodCourt       183\n",
              "ShoppingMall    208\n",
              "Spa             183\n",
              "VRDeck          188\n",
              "Name            200\n",
              "dtype: int64"
            ]
          },
          "metadata": {},
          "execution_count": 260
        }
      ]
    },
    {
      "cell_type": "markdown",
      "source": [
        "### Task 2: Split the data into training and test splits. Keep the random_state to be 42 and test size to be 0.2"
      ],
      "metadata": {
        "id": "7PTdfG-XhGzF"
      }
    },
    {
      "cell_type": "code",
      "source": [
        "from sklearn.model_selection import train_test_split\n",
        "xtrain, xtest, ytrain, ytest = train_test_split(X, y, test_size = 0.2,random_state = 42)"
      ],
      "metadata": {
        "id": "OAnoq0Y2hF8K"
      },
      "execution_count": null,
      "outputs": []
    },
    {
      "cell_type": "markdown",
      "source": [
        "Question 3: What is the shape of the training data?"
      ],
      "metadata": {
        "id": "Qr10BjE6hzue"
      }
    },
    {
      "cell_type": "code",
      "source": [
        "xtrain.shape"
      ],
      "metadata": {
        "id": "KT74exZshzWb",
        "colab": {
          "base_uri": "https://localhost:8080/"
        },
        "outputId": "5ae6acc1-da20-4bbb-8821-7262f7eda3e0"
      },
      "execution_count": null,
      "outputs": [
        {
          "output_type": "execute_result",
          "data": {
            "text/plain": [
              "(6954, 13)"
            ]
          },
          "metadata": {},
          "execution_count": 262
        }
      ]
    },
    {
      "cell_type": "markdown",
      "source": [
        "### Task 3: Take the shopping mall column from the training data and add 1 to each entry, then apply a log transformation to the entire column and plot a histogram. **Note**: Do not change the values of 'ShoppingMall' in the original Data."
      ],
      "metadata": {
        "id": "DAD1AUDniC3c"
      }
    },
    {
      "cell_type": "code",
      "source": [
        "from sklearn.preprocessing import FunctionTransformer\n",
        "\n",
        "plt.hist(np.log(xtrain['ShoppingMall'] + 1))"
      ],
      "metadata": {
        "colab": {
          "base_uri": "https://localhost:8080/"
        },
        "id": "jymaHOCcOQtw",
        "outputId": "8b69dc9a-e095-4324-80b1-079532ca39d5"
      },
      "execution_count": null,
      "outputs": [
        {
          "output_type": "execute_result",
          "data": {
            "text/plain": [
              "(array([4.59e+03, 2.05e+02, 2.15e+02, 2.68e+02, 2.88e+02, 3.41e+02,\n",
              "        6.33e+02, 2.10e+02, 3.60e+01, 3.00e+00]),\n",
              " array([ 0.        ,  1.00644578,  2.01289156,  3.01933734,  4.02578311,\n",
              "         5.03222889,  6.03867467,  7.04512045,  8.05156623,  9.05801201,\n",
              "        10.06445778]),\n",
              " <a list of 10 Patch objects>)"
            ]
          },
          "metadata": {},
          "execution_count": 263
        },
        {
          "output_type": "display_data",
          "data": {
            "text/plain": [
              "<Figure size 432x288 with 1 Axes>"
            ],
            "image/png": "[encoded data removed]"
          },
          "metadata": {
            "needs_background": "light"
          }
        }
      ]
    },
    {
      "cell_type": "markdown",
      "source": [
        "Question 4: Which bin approximately has the highest number of data points in it?\n",
        "1. (0, 1)\n",
        "2. (4, 5)\n",
        "3. (7, 8)\n",
        "4. (9, 10)"
      ],
      "metadata": {
        "id": "xQGkzJBliegV"
      }
    },
    {
      "cell_type": "code",
      "source": [
        "# Answer --> 1.(0,1)"
      ],
      "metadata": {
        "id": "2MGGMzJNqJEQ"
      },
      "execution_count": null,
      "outputs": []
    },
    {
      "cell_type": "markdown",
      "source": [
        "### Task 4: Initialize 2 Imputer's from sklearn\n",
        "1. SimpleImputer - For the categorical features.\n",
        "2. KNNImputer - For the numerical features.\n",
        "\n",
        "Apply both imputers to the respective columns."
      ],
      "metadata": {
        "id": "piO3eUG2i79i"
      }
    },
    {
      "cell_type": "code",
      "source": [
        "data.info()"
      ],
      "metadata": {
        "id": "6xcwuX01jfi2",
        "colab": {
          "base_uri": "https://localhost:8080/"
        },
        "outputId": "ab759e4d-f63d-4b0d-8e76-a0a899c60b5d"
      },
      "execution_count": null,
      "outputs": [
        {
          "output_type": "stream",
          "name": "stdout",
          "text": [
            "<class 'pandas.core.frame.DataFrame'>\n",
            "RangeIndex: 8693 entries, 0 to 8692\n",
            "Data columns (total 14 columns):\n",
            " #   Column        Non-Null Count  Dtype  \n",
            "---  ------        --------------  -----  \n",
            " 0   PassengerId   8693 non-null   object \n",
            " 1   HomePlanet    8492 non-null   object \n",
            " 2   CryoSleep     8476 non-null   object \n",
            " 3   Cabin         8494 non-null   object \n",
            " 4   Destination   8511 non-null   object \n",
            " 5   Age           8514 non-null   float64\n",
            " 6   VIP           8490 non-null   object \n",
            " 7   RoomService   8512 non-null   float64\n",
            " 8   FoodCourt     8510 non-null   float64\n",
            " 9   ShoppingMall  8485 non-null   float64\n",
            " 10  Spa           8510 non-null   float64\n",
            " 11  VRDeck        8505 non-null   float64\n",
            " 12  Name          8493 non-null   object \n",
            " 13  Transported   8693 non-null   bool   \n",
            "dtypes: bool(1), float64(6), object(7)\n",
            "memory usage: 891.5+ KB\n"
          ]
        }
      ]
    },
    {
      "cell_type": "code",
      "source": [
        "num_cols = ['Age', 'RoomService', 'FoodCourt', 'ShoppingMall', 'Spa', 'VRDeck']\n",
        "cat_cols = ['PassengerId', 'HomePlanet', 'CryoSleep', 'Cabin', 'Destination', 'VIP', 'Name']\n",
        "\n",
        "from sklearn.impute import SimpleImputer\n",
        "from sklearn.impute import KNNImputer\n",
        "ssi = SimpleImputer(strategy = 'most_frequent')\n",
        "knni = KNNImputer(n_neighbors = 7)\n",
        "xtrain[cat_cols] = ssi.fit_transform(xtrain[cat_cols])\n",
        "xtrain[num_cols] = knni.fit_transform(xtrain[num_cols])"
      ],
      "metadata": {
        "id": "DT-V3dfeiy--"
      },
      "execution_count": null,
      "outputs": []
    },
    {
      "cell_type": "markdown",
      "source": [
        "Question 4: How many NaN values are left in the training data after the Imputation?\n",
        "1.  1\n",
        "2.  0\n",
        "3.  4\n",
        "4.  5"
      ],
      "metadata": {
        "id": "WJeBHLQlj10u"
      }
    },
    {
      "cell_type": "code",
      "source": [
        "pd.isnull(xtrain).sum()"
      ],
      "metadata": {
        "colab": {
          "base_uri": "https://localhost:8080/"
        },
        "id": "NIRSbH5RQreN",
        "outputId": "e2cf0f59-df2d-43ea-bfe2-6111e9e58a3d"
      },
      "execution_count": null,
      "outputs": [
        {
          "output_type": "execute_result",
          "data": {
            "text/plain": [
              "PassengerId     0\n",
              "HomePlanet      0\n",
              "CryoSleep       0\n",
              "Cabin           0\n",
              "Destination     0\n",
              "Age             0\n",
              "VIP             0\n",
              "RoomService     0\n",
              "FoodCourt       0\n",
              "ShoppingMall    0\n",
              "Spa             0\n",
              "VRDeck          0\n",
              "Name            0\n",
              "dtype: int64"
            ]
          },
          "metadata": {},
          "execution_count": 267
        }
      ]
    },
    {
      "cell_type": "markdown",
      "source": [
        "### Task 5: Initialize a Standard Scaler object and apply it to the training data."
      ],
      "metadata": {
        "id": "b_yKR40LkH2O"
      }
    },
    {
      "cell_type": "code",
      "source": [
        "from sklearn.preprocessing import StandardScaler\n",
        "ssc = StandardScaler()\n",
        "xtrain[num_cols] = ssc.fit_transform(xtrain[num_cols])"
      ],
      "metadata": {
        "id": "WKGtYZht0jpI"
      },
      "execution_count": null,
      "outputs": []
    },
    {
      "cell_type": "markdown",
      "source": [
        "Question 5: What is the minimum and maximum value present in the FoodCourt Column?"
      ],
      "metadata": {
        "id": "LorTPwhikeK6"
      }
    },
    {
      "cell_type": "code",
      "source": [
        "train_pd = pd.DataFrame(xtrain)\n",
        "train_pd[num_cols].describe()"
      ],
      "metadata": {
        "colab": {
          "base_uri": "https://localhost:8080/",
          "height": 300
        },
        "id": "k2F17uBcTZCf",
        "outputId": "7a10ab3f-0281-4044-d2b9-6d8177d4cc25"
      },
      "execution_count": null,
      "outputs": [
        {
          "output_type": "execute_result",
          "data": {
            "text/plain": [
              "                Age   RoomService     FoodCourt  ShoppingMall           Spa  \\\n",
              "count  6.954000e+03  6.954000e+03  6.954000e+03  6.954000e+03  6.954000e+03   \n",
              "mean  -3.116416e-16  1.226131e-17 -2.273451e-17  4.597990e-17  5.313233e-17   \n",
              "std    1.000072e+00  1.000072e+00  1.000072e+00  1.000072e+00  1.000072e+00   \n",
              "min   -2.014845e+00 -3.314848e-01 -2.897805e-01 -2.866425e-01 -2.834173e-01   \n",
              "25%   -6.166501e-01 -3.314848e-01 -2.897805e-01 -2.866425e-01 -2.834173e-01   \n",
              "50%   -1.272818e-01 -3.314848e-01 -2.897805e-01 -2.866425e-01 -2.834173e-01   \n",
              "75%    5.718159e-01 -2.527684e-01 -2.302320e-01 -2.356219e-01 -2.221055e-01   \n",
              "max    3.508026e+00  2.104802e+01  1.746825e+01  3.837710e+01  1.646193e+01   \n",
              "\n",
              "             VRDeck  \n",
              "count  6.954000e+03  \n",
              "mean  -5.211055e-17  \n",
              "std    1.000072e+00  \n",
              "min   -2.595227e-01  \n",
              "25%   -2.595227e-01  \n",
              "50%   -2.595227e-01  \n",
              "75%   -2.137938e-01  \n",
              "max    2.056266e+01  "
            ],
            "text/html": [
              "\n",
              "  <div id=\"df-1b341b6f-3052-4bbe-beba-bd23f53d498a\">\n",
              "    <div class=\"colab-df-container\">\n",
              "      <div>\n",
              "<style scoped>\n",
              "    .dataframe tbody tr th:only-of-type {\n",
              "        vertical-align: middle;\n",
              "    }\n",
              "\n",
              "    .dataframe tbody tr th {\n",
              "        vertical-align: top;\n",
              "    }\n",
              "\n",
              "    .dataframe thead th {\n",
              "        text-align: right;\n",
              "    }\n",
              "</style>\n",
              "<table border=\"1\" class=\"dataframe\">\n",
              "  <thead>\n",
              "    <tr style=\"text-align: right;\">\n",
              "      <th></th>\n",
              "      <th>Age</th>\n",
              "      <th>RoomService</th>\n",
              "      <th>FoodCourt</th>\n",
              "      <th>ShoppingMall</th>\n",
              "      <th>Spa</th>\n",
              "      <th>VRDeck</th>\n",
              "    </tr>\n",
              "  </thead>\n",
              "  <tbody>\n",
              "    <tr>\n",
              "      <th>count</th>\n",
              "      <td>6.954000e+03</td>\n",
              "      <td>6.954000e+03</td>\n",
              "      <td>6.954000e+03</td>\n",
              "      <td>6.954000e+03</td>\n",
              "      <td>6.954000e+03</td>\n",
              "      <td>6.954000e+03</td>\n",
              "    </tr>\n",
              "    <tr>\n",
              "      <th>mean</th>\n",
              "      <td>-3.116416e-16</td>\n",
              "      <td>1.226131e-17</td>\n",
              "      <td>-2.273451e-17</td>\n",
              "      <td>4.597990e-17</td>\n",
              "      <td>5.313233e-17</td>\n",
              "      <td>-5.211055e-17</td>\n",
              "    </tr>\n",
              "    <tr>\n",
              "      <th>std</th>\n",
              "      <td>1.000072e+00</td>\n",
              "      <td>1.000072e+00</td>\n",
              "      <td>1.000072e+00</td>\n",
              "      <td>1.000072e+00</td>\n",
              "      <td>1.000072e+00</td>\n",
              "      <td>1.000072e+00</td>\n",
              "    </tr>\n",
              "    <tr>\n",
              "      <th>min</th>\n",
              "      <td>-2.014845e+00</td>\n",
              "      <td>-3.314848e-01</td>\n",
              "      <td>-2.897805e-01</td>\n",
              "      <td>-2.866425e-01</td>\n",
              "      <td>-2.834173e-01</td>\n",
              "      <td>-2.595227e-01</td>\n",
              "    </tr>\n",
              "    <tr>\n",
              "      <th>25%</th>\n",
              "      <td>-6.166501e-01</td>\n",
              "      <td>-3.314848e-01</td>\n",
              "      <td>-2.897805e-01</td>\n",
              "      <td>-2.866425e-01</td>\n",
              "      <td>-2.834173e-01</td>\n",
              "      <td>-2.595227e-01</td>\n",
              "    </tr>\n",
              "    <tr>\n",
              "      <th>50%</th>\n",
              "      <td>-1.272818e-01</td>\n",
              "      <td>-3.314848e-01</td>\n",
              "      <td>-2.897805e-01</td>\n",
              "      <td>-2.866425e-01</td>\n",
              "      <td>-2.834173e-01</td>\n",
              "      <td>-2.595227e-01</td>\n",
              "    </tr>\n",
              "    <tr>\n",
              "      <th>75%</th>\n",
              "      <td>5.718159e-01</td>\n",
              "      <td>-2.527684e-01</td>\n",
              "      <td>-2.302320e-01</td>\n",
              "      <td>-2.356219e-01</td>\n",
              "      <td>-2.221055e-01</td>\n",
              "      <td>-2.137938e-01</td>\n",
              "    </tr>\n",
              "    <tr>\n",
              "      <th>max</th>\n",
              "      <td>3.508026e+00</td>\n",
              "      <td>2.104802e+01</td>\n",
              "      <td>1.746825e+01</td>\n",
              "      <td>3.837710e+01</td>\n",
              "      <td>1.646193e+01</td>\n",
              "      <td>2.056266e+01</td>\n",
              "    </tr>\n",
              "  </tbody>\n",
              "</table>\n",
              "</div>\n",
              "      <button class=\"colab-df-convert\" onclick=\"convertToInteractive('df-1b341b6f-3052-4bbe-beba-bd23f53d498a')\"\n",
              "              title=\"Convert this dataframe to an interactive table.\"\n",
              "              style=\"display:none;\">\n",
              "        \n",
              "  <svg xmlns=\"http://www.w3.org/2000/svg\" height=\"24px\"viewBox=\"0 0 24 24\"\n",
              "       width=\"24px\">\n",
              "    <path d=\"M0 0h24v24H0V0z\" fill=\"none\"/>\n",
              "    <path d=\"M18.56 5.44l.94 2.06.94-2.06 2.06-.94-2.06-.94-.94-2.06-.94 2.06-2.06.94zm-11 1L8.5 8.5l.94-2.06 2.06-.94-2.06-.94L8.5 2.5l-.94 2.06-2.06.94zm10 10l.94 2.06.94-2.06 2.06-.94-2.06-.94-.94-2.06-.94 2.06-2.06.94z\"/><path d=\"M17.41 7.96l-1.37-1.37c-.4-.4-.92-.59-1.43-.59-.52 0-1.04.2-1.43.59L10.3 9.45l-7.72 7.72c-.78.78-.78 2.05 0 2.83L4 21.41c.39.39.9.59 1.41.59.51 0 1.02-.2 1.41-.59l7.78-7.78 2.81-2.81c.8-.78.8-2.07 0-2.86zM5.41 20L4 18.59l7.72-7.72 1.47 1.35L5.41 20z\"/>\n",
              "  </svg>\n",
              "      </button>\n",
              "      \n",
              "  <style>\n",
              "    .colab-df-container {\n",
              "      display:flex;\n",
              "      flex-wrap:wrap;\n",
              "      gap: 12px;\n",
              "    }\n",
              "\n",
              "    .colab-df-convert {\n",
              "      background-color: #E8F0FE;\n",
              "      border: none;\n",
              "      border-radius: 50%;\n",
              "      cursor: pointer;\n",
              "      display: none;\n",
              "      fill: #1967D2;\n",
              "      height: 32px;\n",
              "      padding: 0 0 0 0;\n",
              "      width: 32px;\n",
              "    }\n",
              "\n",
              "    .colab-df-convert:hover {\n",
              "      background-color: #E2EBFA;\n",
              "      box-shadow: 0px 1px 2px rgba(60, 64, 67, 0.3), 0px 1px 3px 1px rgba(60, 64, 67, 0.15);\n",
              "      fill: #174EA6;\n",
              "    }\n",
              "\n",
              "    [theme=dark] .colab-df-convert {\n",
              "      background-color: #3B4455;\n",
              "      fill: #D2E3FC;\n",
              "    }\n",
              "\n",
              "    [theme=dark] .colab-df-convert:hover {\n",
              "      background-color: #434B5C;\n",
              "      box-shadow: 0px 1px 3px 1px rgba(0, 0, 0, 0.15);\n",
              "      filter: drop-shadow(0px 1px 2px rgba(0, 0, 0, 0.3));\n",
              "      fill: #FFFFFF;\n",
              "    }\n",
              "  </style>\n",
              "\n",
              "      <script>\n",
              "        const buttonEl =\n",
              "          document.querySelector('#df-1b341b6f-3052-4bbe-beba-bd23f53d498a button.colab-df-convert');\n",
              "        buttonEl.style.display =\n",
              "          google.colab.kernel.accessAllowed ? 'block' : 'none';\n",
              "\n",
              "        async function convertToInteractive(key) {\n",
              "          const element = document.querySelector('#df-1b341b6f-3052-4bbe-beba-bd23f53d498a');\n",
              "          const dataTable =\n",
              "            await google.colab.kernel.invokeFunction('convertToInteractive',\n",
              "                                                     [key], {});\n",
              "          if (!dataTable) return;\n",
              "\n",
              "          const docLinkHtml = 'Like what you see? Visit the ' +\n",
              "            '<a target=\"_blank\" href=https://colab.research.google.com/notebooks/data_table.ipynb>data table notebook</a>'\n",
              "            + ' to learn more about interactive tables.';\n",
              "          element.innerHTML = '';\n",
              "          dataTable['output_type'] = 'display_data';\n",
              "          await google.colab.output.renderOutput(dataTable, element);\n",
              "          const docLink = document.createElement('div');\n",
              "          docLink.innerHTML = docLinkHtml;\n",
              "          element.appendChild(docLink);\n",
              "        }\n",
              "      </script>\n",
              "    </div>\n",
              "  </div>\n",
              "  "
            ]
          },
          "metadata": {},
          "execution_count": 269
        }
      ]
    },
    {
      "cell_type": "code",
      "source": [
        "train_pd['FoodCourt'].max(), train_pd['FoodCourt'].min()"
      ],
      "metadata": {
        "colab": {
          "base_uri": "https://localhost:8080/"
        },
        "id": "HHwnzF68T0UT",
        "outputId": "3798ef3e-de18-46b7-b931-37e1984c4e90"
      },
      "execution_count": null,
      "outputs": [
        {
          "output_type": "execute_result",
          "data": {
            "text/plain": [
              "(17.468247149756866, -0.28978045317460327)"
            ]
          },
          "metadata": {},
          "execution_count": 270
        }
      ]
    },
    {
      "cell_type": "markdown",
      "source": [
        "Question 5: How many categorical columns have more than 5 unique values?"
      ],
      "metadata": {
        "id": "esE-mkt4kp36"
      }
    },
    {
      "cell_type": "code",
      "source": [
        "train_pd[cat_cols].describe()"
      ],
      "metadata": {
        "id": "PQvsC16Sklg9",
        "colab": {
          "base_uri": "https://localhost:8080/",
          "height": 175
        },
        "outputId": "96e92653-b9ba-4e92-e0dd-45c3bc179b2e"
      },
      "execution_count": null,
      "outputs": [
        {
          "output_type": "execute_result",
          "data": {
            "text/plain": [
              "       PassengerId HomePlanet CryoSleep   Cabin  Destination    VIP  \\\n",
              "count         6954       6954      6954    6954         6954   6954   \n",
              "unique        6954          3         2    5441            3      2   \n",
              "top        2513_01      Earth     False  B/82/S  TRAPPIST-1e  False   \n",
              "freq             1       3859      4554     165         4872   6798   \n",
              "\n",
              "               Name  \n",
              "count          6954  \n",
              "unique         6785  \n",
              "top     Anton Woody  \n",
              "freq            161  "
            ],
            "text/html": [
              "\n",
              "  <div id=\"df-0369bd78-cdb2-4fa5-a1de-7efdab326677\">\n",
              "    <div class=\"colab-df-container\">\n",
              "      <div>\n",
              "<style scoped>\n",
              "    .dataframe tbody tr th:only-of-type {\n",
              "        vertical-align: middle;\n",
              "    }\n",
              "\n",
              "    .dataframe tbody tr th {\n",
              "        vertical-align: top;\n",
              "    }\n",
              "\n",
              "    .dataframe thead th {\n",
              "        text-align: right;\n",
              "    }\n",
              "</style>\n",
              "<table border=\"1\" class=\"dataframe\">\n",
              "  <thead>\n",
              "    <tr style=\"text-align: right;\">\n",
              "      <th></th>\n",
              "      <th>PassengerId</th>\n",
              "      <th>HomePlanet</th>\n",
              "      <th>CryoSleep</th>\n",
              "      <th>Cabin</th>\n",
              "      <th>Destination</th>\n",
              "      <th>VIP</th>\n",
              "      <th>Name</th>\n",
              "    </tr>\n",
              "  </thead>\n",
              "  <tbody>\n",
              "    <tr>\n",
              "      <th>count</th>\n",
              "      <td>6954</td>\n",
              "      <td>6954</td>\n",
              "      <td>6954</td>\n",
              "      <td>6954</td>\n",
              "      <td>6954</td>\n",
              "      <td>6954</td>\n",
              "      <td>6954</td>\n",
              "    </tr>\n",
              "    <tr>\n",
              "      <th>unique</th>\n",
              "      <td>6954</td>\n",
              "      <td>3</td>\n",
              "      <td>2</td>\n",
              "      <td>5441</td>\n",
              "      <td>3</td>\n",
              "      <td>2</td>\n",
              "      <td>6785</td>\n",
              "    </tr>\n",
              "    <tr>\n",
              "      <th>top</th>\n",
              "      <td>2513_01</td>\n",
              "      <td>Earth</td>\n",
              "      <td>False</td>\n",
              "      <td>B/82/S</td>\n",
              "      <td>TRAPPIST-1e</td>\n",
              "      <td>False</td>\n",
              "      <td>Anton Woody</td>\n",
              "    </tr>\n",
              "    <tr>\n",
              "      <th>freq</th>\n",
              "      <td>1</td>\n",
              "      <td>3859</td>\n",
              "      <td>4554</td>\n",
              "      <td>165</td>\n",
              "      <td>4872</td>\n",
              "      <td>6798</td>\n",
              "      <td>161</td>\n",
              "    </tr>\n",
              "  </tbody>\n",
              "</table>\n",
              "</div>\n",
              "      <button class=\"colab-df-convert\" onclick=\"convertToInteractive('df-0369bd78-cdb2-4fa5-a1de-7efdab326677')\"\n",
              "              title=\"Convert this dataframe to an interactive table.\"\n",
              "              style=\"display:none;\">\n",
              "        \n",
              "  <svg xmlns=\"http://www.w3.org/2000/svg\" height=\"24px\"viewBox=\"0 0 24 24\"\n",
              "       width=\"24px\">\n",
              "    <path d=\"M0 0h24v24H0V0z\" fill=\"none\"/>\n",
              "    <path d=\"M18.56 5.44l.94 2.06.94-2.06 2.06-.94-2.06-.94-.94-2.06-.94 2.06-2.06.94zm-11 1L8.5 8.5l.94-2.06 2.06-.94-2.06-.94L8.5 2.5l-.94 2.06-2.06.94zm10 10l.94 2.06.94-2.06 2.06-.94-2.06-.94-.94-2.06-.94 2.06-2.06.94z\"/><path d=\"M17.41 7.96l-1.37-1.37c-.4-.4-.92-.59-1.43-.59-.52 0-1.04.2-1.43.59L10.3 9.45l-7.72 7.72c-.78.78-.78 2.05 0 2.83L4 21.41c.39.39.9.59 1.41.59.51 0 1.02-.2 1.41-.59l7.78-7.78 2.81-2.81c.8-.78.8-2.07 0-2.86zM5.41 20L4 18.59l7.72-7.72 1.47 1.35L5.41 20z\"/>\n",
              "  </svg>\n",
              "      </button>\n",
              "      \n",
              "  <style>\n",
              "    .colab-df-container {\n",
              "      display:flex;\n",
              "      flex-wrap:wrap;\n",
              "      gap: 12px;\n",
              "    }\n",
              "\n",
              "    .colab-df-convert {\n",
              "      background-color: #E8F0FE;\n",
              "      border: none;\n",
              "      border-radius: 50%;\n",
              "      cursor: pointer;\n",
              "      display: none;\n",
              "      fill: #1967D2;\n",
              "      height: 32px;\n",
              "      padding: 0 0 0 0;\n",
              "      width: 32px;\n",
              "    }\n",
              "\n",
              "    .colab-df-convert:hover {\n",
              "      background-color: #E2EBFA;\n",
              "      box-shadow: 0px 1px 2px rgba(60, 64, 67, 0.3), 0px 1px 3px 1px rgba(60, 64, 67, 0.15);\n",
              "      fill: #174EA6;\n",
              "    }\n",
              "\n",
              "    [theme=dark] .colab-df-convert {\n",
              "      background-color: #3B4455;\n",
              "      fill: #D2E3FC;\n",
              "    }\n",
              "\n",
              "    [theme=dark] .colab-df-convert:hover {\n",
              "      background-color: #434B5C;\n",
              "      box-shadow: 0px 1px 3px 1px rgba(0, 0, 0, 0.15);\n",
              "      filter: drop-shadow(0px 1px 2px rgba(0, 0, 0, 0.3));\n",
              "      fill: #FFFFFF;\n",
              "    }\n",
              "  </style>\n",
              "\n",
              "      <script>\n",
              "        const buttonEl =\n",
              "          document.querySelector('#df-0369bd78-cdb2-4fa5-a1de-7efdab326677 button.colab-df-convert');\n",
              "        buttonEl.style.display =\n",
              "          google.colab.kernel.accessAllowed ? 'block' : 'none';\n",
              "\n",
              "        async function convertToInteractive(key) {\n",
              "          const element = document.querySelector('#df-0369bd78-cdb2-4fa5-a1de-7efdab326677');\n",
              "          const dataTable =\n",
              "            await google.colab.kernel.invokeFunction('convertToInteractive',\n",
              "                                                     [key], {});\n",
              "          if (!dataTable) return;\n",
              "\n",
              "          const docLinkHtml = 'Like what you see? Visit the ' +\n",
              "            '<a target=\"_blank\" href=https://colab.research.google.com/notebooks/data_table.ipynb>data table notebook</a>'\n",
              "            + ' to learn more about interactive tables.';\n",
              "          element.innerHTML = '';\n",
              "          dataTable['output_type'] = 'display_data';\n",
              "          await google.colab.output.renderOutput(dataTable, element);\n",
              "          const docLink = document.createElement('div');\n",
              "          docLink.innerHTML = docLinkHtml;\n",
              "          element.appendChild(docLink);\n",
              "        }\n",
              "      </script>\n",
              "    </div>\n",
              "  </div>\n",
              "  "
            ]
          },
          "metadata": {},
          "execution_count": 271
        }
      ]
    },
    {
      "cell_type": "markdown",
      "source": [
        "### Task 6: Drop the columns which have more than 5 unqiue values. We won't use these columns as a feature in our model."
      ],
      "metadata": {
        "id": "JaJODhR7k46v"
      }
    },
    {
      "cell_type": "code",
      "source": [
        "xtrain.drop(['Cabin', 'Name', 'PassengerId'], axis = 1, inplace = True)"
      ],
      "metadata": {
        "id": "XfuTWcHjo9oB"
      },
      "execution_count": null,
      "outputs": []
    },
    {
      "cell_type": "markdown",
      "source": [
        "Question 6: What is the shape of the training data now?"
      ],
      "metadata": {
        "id": "iXA0P5bIlWW2"
      }
    },
    {
      "cell_type": "code",
      "source": [
        "print(xtrain.shape)"
      ],
      "metadata": {
        "id": "-m2Rb5RjlV_V",
        "colab": {
          "base_uri": "https://localhost:8080/"
        },
        "outputId": "96e5686b-98e8-4698-efed-fa39be83027f"
      },
      "execution_count": null,
      "outputs": [
        {
          "output_type": "stream",
          "name": "stdout",
          "text": [
            "(6954, 10)\n"
          ]
        }
      ]
    },
    {
      "cell_type": "markdown",
      "source": [
        "### Task 7: Apply OneHotEncoding to all the categorical features. After applying the One Hot Encoding drop the original categorical features."
      ],
      "metadata": {
        "id": "M8FQM09RlliQ"
      }
    },
    {
      "cell_type": "code",
      "source": [
        "from sklearn.preprocessing import OneHotEncoder\n",
        "columns_to_ohe = [x for x in cat_cols if x not in ('Cabin', 'Name', 'PassengerId')]\n",
        "ohe = OneHotEncoder(sparse=False, handle_unknown=\"ignore\")\n",
        "from sklearn.compose import ColumnTransformer\n",
        "cl_ohe = ColumnTransformer([('nums', 'passthrough', num_cols),\n",
        "                            ('cats', ohe, columns_to_ohe)])\n",
        "xtrain_ = cl_ohe.fit_transform(xtrain)\n",
        "# xtrain_cat_enc = ohe.fit_transform(xtrain[columns_to_ohe])\n",
        "# print(xtrain[columns_to_ohe].shape, 'Before')\n",
        "# print(xtrain_cat_enc.shape, 'enc shape')\n",
        "# xtrain_ = xtrain.drop(columns_to_ohe, axis = 1)\n",
        "# xtrain_.shape, 'Dropping'\n",
        "\n",
        "\n",
        "# enc_columns = ohe.fit_transform(xtrain[columns_to_ohe])\n",
        "# enc_df = pd.DataFrame(enc_columns, columns = ohe.get_feature_names_out())\n",
        "# xtrain_ = xtrain.reset_index()\n",
        "# xtrain_ = xtrain_.join(enc_df)\n",
        "# #xtrain_ = xtrain_.set_index()"
      ],
      "metadata": {
        "id": "TWvEVmcKU6qL"
      },
      "execution_count": null,
      "outputs": []
    },
    {
      "cell_type": "code",
      "source": [
        "pd.DataFrame(xtrain_).columns"
      ],
      "metadata": {
        "id": "1CMEM4i0mZif",
        "colab": {
          "base_uri": "https://localhost:8080/"
        },
        "outputId": "b2b90997-1409-439c-d362-bc05bcdf1c57"
      },
      "execution_count": null,
      "outputs": [
        {
          "output_type": "execute_result",
          "data": {
            "text/plain": [
              "RangeIndex(start=0, stop=16, step=1)"
            ]
          },
          "metadata": {},
          "execution_count": 275
        }
      ]
    },
    {
      "cell_type": "code",
      "source": [
        "xtrain_.get_feature_name()"
      ],
      "metadata": {
        "colab": {
          "base_uri": "https://localhost:8080/",
          "height": 165
        },
        "id": "Al4IKirzepuT",
        "outputId": "d51353d0-433e-4a48-8a78-e6b4e9ee05eb"
      },
      "execution_count": null,
      "outputs": [
        {
          "output_type": "error",
          "ename": "AttributeError",
          "evalue": "ignored",
          "traceback": [
            "\u001b[0;31m---------------------------------------------------------------------------\u001b[0m",
            "\u001b[0;31mAttributeError\u001b[0m                            Traceback (most recent call last)",
            "\u001b[0;32m<ipython-input-240-4ca82a1bd406>\u001b[0m in \u001b[0;36m<module>\u001b[0;34m()\u001b[0m\n\u001b[0;32m----> 1\u001b[0;31m \u001b[0mxtrain_\u001b[0m\u001b[0;34m.\u001b[0m\u001b[0mget_feature_name\u001b[0m\u001b[0;34m(\u001b[0m\u001b[0;34m)\u001b[0m\u001b[0;34m\u001b[0m\u001b[0;34m\u001b[0m\u001b[0m\n\u001b[0m",
            "\u001b[0;31mAttributeError\u001b[0m: 'numpy.ndarray' object has no attribute 'get_feature_name'"
          ]
        }
      ]
    },
    {
      "cell_type": "code",
      "source": [
        "pd.DataFrame(xtrain_).head()"
      ],
      "metadata": {
        "colab": {
          "base_uri": "https://localhost:8080/",
          "height": 206
        },
        "id": "_aXyu71EeftO",
        "outputId": "590e1560-32f4-496d-aac8-5f3ced50de33"
      },
      "execution_count": null,
      "outputs": [
        {
          "output_type": "execute_result",
          "data": {
            "text/plain": [
              "         0         1         2         3         4         5    6    7    8   \\\n",
              "0 -0.057372 -0.331485 -0.254550 -0.286642  0.308062 -0.259523  1.0  0.0  0.0   \n",
              "1 -0.826379 -0.331485  0.475679 -0.235622 -0.283417 -0.259523  1.0  0.0  0.0   \n",
              "2 -0.057372 -0.331485 -0.289780 -0.286642 -0.283417 -0.259523  0.0  1.0  0.0   \n",
              "3 -0.616650  0.854430 -0.288499  0.189001  0.596588 -0.259523  0.0  0.0  1.0   \n",
              "4  0.501906 -0.331485 -0.289780 -0.286642 -0.283417 -0.259523  0.0  1.0  0.0   \n",
              "\n",
              "    9    10   11   12   13   14   15  \n",
              "0  1.0  0.0  0.0  0.0  1.0  1.0  0.0  \n",
              "1  1.0  0.0  0.0  0.0  1.0  1.0  0.0  \n",
              "2  0.0  1.0  1.0  0.0  0.0  1.0  0.0  \n",
              "3  1.0  0.0  0.0  0.0  1.0  1.0  0.0  \n",
              "4  0.0  1.0  1.0  0.0  0.0  1.0  0.0  "
            ],
            "text/html": [
              "\n",
              "  <div id=\"df-d596f88d-0853-4532-8275-27fcf68cbea9\">\n",
              "    <div class=\"colab-df-container\">\n",
              "      <div>\n",
              "<style scoped>\n",
              "    .dataframe tbody tr th:only-of-type {\n",
              "        vertical-align: middle;\n",
              "    }\n",
              "\n",
              "    .dataframe tbody tr th {\n",
              "        vertical-align: top;\n",
              "    }\n",
              "\n",
              "    .dataframe thead th {\n",
              "        text-align: right;\n",
              "    }\n",
              "</style>\n",
              "<table border=\"1\" class=\"dataframe\">\n",
              "  <thead>\n",
              "    <tr style=\"text-align: right;\">\n",
              "      <th></th>\n",
              "      <th>0</th>\n",
              "      <th>1</th>\n",
              "      <th>2</th>\n",
              "      <th>3</th>\n",
              "      <th>4</th>\n",
              "      <th>5</th>\n",
              "      <th>6</th>\n",
              "      <th>7</th>\n",
              "      <th>8</th>\n",
              "      <th>9</th>\n",
              "      <th>10</th>\n",
              "      <th>11</th>\n",
              "      <th>12</th>\n",
              "      <th>13</th>\n",
              "      <th>14</th>\n",
              "      <th>15</th>\n",
              "    </tr>\n",
              "  </thead>\n",
              "  <tbody>\n",
              "    <tr>\n",
              "      <th>0</th>\n",
              "      <td>-0.057372</td>\n",
              "      <td>-0.331485</td>\n",
              "      <td>-0.254550</td>\n",
              "      <td>-0.286642</td>\n",
              "      <td>0.308062</td>\n",
              "      <td>-0.259523</td>\n",
              "      <td>1.0</td>\n",
              "      <td>0.0</td>\n",
              "      <td>0.0</td>\n",
              "      <td>1.0</td>\n",
              "      <td>0.0</td>\n",
              "      <td>0.0</td>\n",
              "      <td>0.0</td>\n",
              "      <td>1.0</td>\n",
              "      <td>1.0</td>\n",
              "      <td>0.0</td>\n",
              "    </tr>\n",
              "    <tr>\n",
              "      <th>1</th>\n",
              "      <td>-0.826379</td>\n",
              "      <td>-0.331485</td>\n",
              "      <td>0.475679</td>\n",
              "      <td>-0.235622</td>\n",
              "      <td>-0.283417</td>\n",
              "      <td>-0.259523</td>\n",
              "      <td>1.0</td>\n",
              "      <td>0.0</td>\n",
              "      <td>0.0</td>\n",
              "      <td>1.0</td>\n",
              "      <td>0.0</td>\n",
              "      <td>0.0</td>\n",
              "      <td>0.0</td>\n",
              "      <td>1.0</td>\n",
              "      <td>1.0</td>\n",
              "      <td>0.0</td>\n",
              "    </tr>\n",
              "    <tr>\n",
              "      <th>2</th>\n",
              "      <td>-0.057372</td>\n",
              "      <td>-0.331485</td>\n",
              "      <td>-0.289780</td>\n",
              "      <td>-0.286642</td>\n",
              "      <td>-0.283417</td>\n",
              "      <td>-0.259523</td>\n",
              "      <td>0.0</td>\n",
              "      <td>1.0</td>\n",
              "      <td>0.0</td>\n",
              "      <td>0.0</td>\n",
              "      <td>1.0</td>\n",
              "      <td>1.0</td>\n",
              "      <td>0.0</td>\n",
              "      <td>0.0</td>\n",
              "      <td>1.0</td>\n",
              "      <td>0.0</td>\n",
              "    </tr>\n",
              "    <tr>\n",
              "      <th>3</th>\n",
              "      <td>-0.616650</td>\n",
              "      <td>0.854430</td>\n",
              "      <td>-0.288499</td>\n",
              "      <td>0.189001</td>\n",
              "      <td>0.596588</td>\n",
              "      <td>-0.259523</td>\n",
              "      <td>0.0</td>\n",
              "      <td>0.0</td>\n",
              "      <td>1.0</td>\n",
              "      <td>1.0</td>\n",
              "      <td>0.0</td>\n",
              "      <td>0.0</td>\n",
              "      <td>0.0</td>\n",
              "      <td>1.0</td>\n",
              "      <td>1.0</td>\n",
              "      <td>0.0</td>\n",
              "    </tr>\n",
              "    <tr>\n",
              "      <th>4</th>\n",
              "      <td>0.501906</td>\n",
              "      <td>-0.331485</td>\n",
              "      <td>-0.289780</td>\n",
              "      <td>-0.286642</td>\n",
              "      <td>-0.283417</td>\n",
              "      <td>-0.259523</td>\n",
              "      <td>0.0</td>\n",
              "      <td>1.0</td>\n",
              "      <td>0.0</td>\n",
              "      <td>0.0</td>\n",
              "      <td>1.0</td>\n",
              "      <td>1.0</td>\n",
              "      <td>0.0</td>\n",
              "      <td>0.0</td>\n",
              "      <td>1.0</td>\n",
              "      <td>0.0</td>\n",
              "    </tr>\n",
              "  </tbody>\n",
              "</table>\n",
              "</div>\n",
              "      <button class=\"colab-df-convert\" onclick=\"convertToInteractive('df-d596f88d-0853-4532-8275-27fcf68cbea9')\"\n",
              "              title=\"Convert this dataframe to an interactive table.\"\n",
              "              style=\"display:none;\">\n",
              "        \n",
              "  <svg xmlns=\"http://www.w3.org/2000/svg\" height=\"24px\"viewBox=\"0 0 24 24\"\n",
              "       width=\"24px\">\n",
              "    <path d=\"M0 0h24v24H0V0z\" fill=\"none\"/>\n",
              "    <path d=\"M18.56 5.44l.94 2.06.94-2.06 2.06-.94-2.06-.94-.94-2.06-.94 2.06-2.06.94zm-11 1L8.5 8.5l.94-2.06 2.06-.94-2.06-.94L8.5 2.5l-.94 2.06-2.06.94zm10 10l.94 2.06.94-2.06 2.06-.94-2.06-.94-.94-2.06-.94 2.06-2.06.94z\"/><path d=\"M17.41 7.96l-1.37-1.37c-.4-.4-.92-.59-1.43-.59-.52 0-1.04.2-1.43.59L10.3 9.45l-7.72 7.72c-.78.78-.78 2.05 0 2.83L4 21.41c.39.39.9.59 1.41.59.51 0 1.02-.2 1.41-.59l7.78-7.78 2.81-2.81c.8-.78.8-2.07 0-2.86zM5.41 20L4 18.59l7.72-7.72 1.47 1.35L5.41 20z\"/>\n",
              "  </svg>\n",
              "      </button>\n",
              "      \n",
              "  <style>\n",
              "    .colab-df-container {\n",
              "      display:flex;\n",
              "      flex-wrap:wrap;\n",
              "      gap: 12px;\n",
              "    }\n",
              "\n",
              "    .colab-df-convert {\n",
              "      background-color: #E8F0FE;\n",
              "      border: none;\n",
              "      border-radius: 50%;\n",
              "      cursor: pointer;\n",
              "      display: none;\n",
              "      fill: #1967D2;\n",
              "      height: 32px;\n",
              "      padding: 0 0 0 0;\n",
              "      width: 32px;\n",
              "    }\n",
              "\n",
              "    .colab-df-convert:hover {\n",
              "      background-color: #E2EBFA;\n",
              "      box-shadow: 0px 1px 2px rgba(60, 64, 67, 0.3), 0px 1px 3px 1px rgba(60, 64, 67, 0.15);\n",
              "      fill: #174EA6;\n",
              "    }\n",
              "\n",
              "    [theme=dark] .colab-df-convert {\n",
              "      background-color: #3B4455;\n",
              "      fill: #D2E3FC;\n",
              "    }\n",
              "\n",
              "    [theme=dark] .colab-df-convert:hover {\n",
              "      background-color: #434B5C;\n",
              "      box-shadow: 0px 1px 3px 1px rgba(0, 0, 0, 0.15);\n",
              "      filter: drop-shadow(0px 1px 2px rgba(0, 0, 0, 0.3));\n",
              "      fill: #FFFFFF;\n",
              "    }\n",
              "  </style>\n",
              "\n",
              "      <script>\n",
              "        const buttonEl =\n",
              "          document.querySelector('#df-d596f88d-0853-4532-8275-27fcf68cbea9 button.colab-df-convert');\n",
              "        buttonEl.style.display =\n",
              "          google.colab.kernel.accessAllowed ? 'block' : 'none';\n",
              "\n",
              "        async function convertToInteractive(key) {\n",
              "          const element = document.querySelector('#df-d596f88d-0853-4532-8275-27fcf68cbea9');\n",
              "          const dataTable =\n",
              "            await google.colab.kernel.invokeFunction('convertToInteractive',\n",
              "                                                     [key], {});\n",
              "          if (!dataTable) return;\n",
              "\n",
              "          const docLinkHtml = 'Like what you see? Visit the ' +\n",
              "            '<a target=\"_blank\" href=https://colab.research.google.com/notebooks/data_table.ipynb>data table notebook</a>'\n",
              "            + ' to learn more about interactive tables.';\n",
              "          element.innerHTML = '';\n",
              "          dataTable['output_type'] = 'display_data';\n",
              "          await google.colab.output.renderOutput(dataTable, element);\n",
              "          const docLink = document.createElement('div');\n",
              "          docLink.innerHTML = docLinkHtml;\n",
              "          element.appendChild(docLink);\n",
              "        }\n",
              "      </script>\n",
              "    </div>\n",
              "  </div>\n",
              "  "
            ]
          },
          "metadata": {},
          "execution_count": 276
        }
      ]
    },
    {
      "cell_type": "markdown",
      "source": [
        "### Task 8: Now, apply all the transformations we applied to the training data to the test data too."
      ],
      "metadata": {
        "id": "V-dU9l3km0im"
      }
    },
    {
      "cell_type": "code",
      "source": [
        "# The Imputers.\n",
        "xtest[cat_cols] = ssi.fit_transform(xtest[cat_cols])\n",
        "xtest[num_cols] = knni.fit_transform(xtest[num_cols])\n",
        "\n",
        "# The Scaler.\n",
        "xtest[num_cols] = ssc.transform(xtest[num_cols])\n",
        "\n",
        "# Remove Cabin and Name\n",
        "xtest.drop(['Cabin', 'Name', 'PassengerId'], axis = 1, inplace = True)\n",
        "\n",
        "\n",
        "# The Encoders\n",
        "xtest_ = cl_ohe.fit_transform(xtest)"
      ],
      "metadata": {
        "id": "ZM25lKr8mqAz"
      },
      "execution_count": null,
      "outputs": []
    },
    {
      "cell_type": "code",
      "source": [
        "xtest_.shape"
      ],
      "metadata": {
        "colab": {
          "base_uri": "https://localhost:8080/"
        },
        "id": "uyp86VKGqMHD",
        "outputId": "9a5e6dde-0f6c-4fbb-ad13-e5f919d6a084"
      },
      "execution_count": null,
      "outputs": [
        {
          "output_type": "execute_result",
          "data": {
            "text/plain": [
              "(1739, 16)"
            ]
          },
          "metadata": {},
          "execution_count": 278
        }
      ]
    },
    {
      "cell_type": "markdown",
      "source": [
        "Question 6: Out of all the numerical columns in the dataset which of them tends to follow the normal distribution most closely?"
      ],
      "metadata": {
        "id": "fSdFj7kmoWWj"
      }
    },
    {
      "cell_type": "code",
      "source": [
        "%matplotlib inline\n",
        "plot_pd = pd.DataFrame(xtrain_)\n",
        "for i in plot_pd.columns:\n",
        "  plt.hist(xtrain_[i])\n",
        "  plt.show()\n",
        "  print(i)"
      ],
      "metadata": {
        "colab": {
          "base_uri": "https://localhost:8080/",
          "height": 1000
        },
        "id": "nZy5wQsAdQKh",
        "outputId": "3e5d5476-b71e-494e-db70-5cab3b48b820"
      },
      "execution_count": null,
      "outputs": [
        {
          "output_type": "display_data",
          "data": {
            "text/plain": [
              "<Figure size 432x288 with 1 Axes>"
            ],
            "image/png": "[encoded data removed]"
          },
          "metadata": {
            "needs_background": "light"
          }
        },
        {
          "output_type": "stream",
          "name": "stdout",
          "text": [
            "0\n"
          ]
        },
        {
          "output_type": "display_data",
          "data": {
            "text/plain": [
              "<Figure size 432x288 with 1 Axes>"
            ],
            "image/png": "[encoded data removed]"
          },
          "metadata": {
            "needs_background": "light"
          }
        },
        {
          "output_type": "stream",
          "name": "stdout",
          "text": [
            "1\n"
          ]
        },
        {
          "output_type": "display_data",
          "data": {
            "text/plain": [
              "<Figure size 432x288 with 1 Axes>"
            ],
            "image/png": "[encoded data removed]"
          },
          "metadata": {
            "needs_background": "light"
          }
        },
        {
          "output_type": "stream",
          "name": "stdout",
          "text": [
            "2\n"
          ]
        },
        {
          "output_type": "display_data",
          "data": {
            "text/plain": [
              "<Figure size 432x288 with 1 Axes>"
            ],
            "image/png": "[encoded data removed]"
          },
          "metadata": {
            "needs_background": "light"
          }
        },
        {
          "output_type": "stream",
          "name": "stdout",
          "text": [
            "3\n"
          ]
        },
        {
          "output_type": "display_data",
          "data": {
            "text/plain": [
              "<Figure size 432x288 with 1 Axes>"
            ],
            "image/png": "[encoded data removed]"
          },
          "metadata": {
            "needs_background": "light"
          }
        },
        {
          "output_type": "stream",
          "name": "stdout",
          "text": [
            "4\n"
          ]
        },
        {
          "output_type": "display_data",
          "data": {
            "text/plain": [
              "<Figure size 432x288 with 1 Axes>"
            ],
            "image/png": "[encoded data removed]"
          },
          "metadata": {
            "needs_background": "light"
          }
        },
        {
          "output_type": "stream",
          "name": "stdout",
          "text": [
            "5\n"
          ]
        },
        {
          "output_type": "display_data",
          "data": {
            "text/plain": [
              "<Figure size 432x288 with 1 Axes>"
            ],
            "image/png": "[encoded data removed]"
          },
          "metadata": {
            "needs_background": "light"
          }
        },
        {
          "output_type": "stream",
          "name": "stdout",
          "text": [
            "6\n"
          ]
        },
        {
          "output_type": "display_data",
          "data": {
            "text/plain": [
              "<Figure size 432x288 with 1 Axes>"
            ],
            "image/png": "[encoded data removed]"
          },
          "metadata": {
            "needs_background": "light"
          }
        },
        {
          "output_type": "stream",
          "name": "stdout",
          "text": [
            "7\n"
          ]
        },
        {
          "output_type": "display_data",
          "data": {
            "text/plain": [
              "<Figure size 432x288 with 1 Axes>"
            ],
            "image/png": "[encoded data removed]"
          },
          "metadata": {
            "needs_background": "light"
          }
        },
        {
          "output_type": "stream",
          "name": "stdout",
          "text": [
            "8\n"
          ]
        },
        {
          "output_type": "display_data",
          "data": {
            "text/plain": [
              "<Figure size 432x288 with 1 Axes>"
            ],
            "image/png": "[encoded data removed]"
          },
          "metadata": {
            "needs_background": "light"
          }
        },
        {
          "output_type": "stream",
          "name": "stdout",
          "text": [
            "9\n"
          ]
        },
        {
          "output_type": "display_data",
          "data": {
            "text/plain": [
              "<Figure size 432x288 with 1 Axes>"
            ],
            "image/png": "[encoded data removed]"
          },
          "metadata": {
            "needs_background": "light"
          }
        },
        {
          "output_type": "stream",
          "name": "stdout",
          "text": [
            "10\n"
          ]
        },
        {
          "output_type": "display_data",
          "data": {
            "text/plain": [
              "<Figure size 432x288 with 1 Axes>"
            ],
            "image/png": "[encoded data removed]"
          },
          "metadata": {
            "needs_background": "light"
          }
        },
        {
          "output_type": "stream",
          "name": "stdout",
          "text": [
            "11\n"
          ]
        },
        {
          "output_type": "display_data",
          "data": {
            "text/plain": [
              "<Figure size 432x288 with 1 Axes>"
            ],
            "image/png": "[encoded data removed]"
          },
          "metadata": {
            "needs_background": "light"
          }
        },
        {
          "output_type": "stream",
          "name": "stdout",
          "text": [
            "12\n"
          ]
        },
        {
          "output_type": "display_data",
          "data": {
            "text/plain": [
              "<Figure size 432x288 with 1 Axes>"
            ],
            "image/png": "[encoded data removed]"
          },
          "metadata": {
            "needs_background": "light"
          }
        },
        {
          "output_type": "stream",
          "name": "stdout",
          "text": [
            "13\n"
          ]
        },
        {
          "output_type": "display_data",
          "data": {
            "text/plain": [
              "<Figure size 432x288 with 1 Axes>"
            ],
            "image/png": "[encoded data removed]"
          },
          "metadata": {
            "needs_background": "light"
          }
        },
        {
          "output_type": "stream",
          "name": "stdout",
          "text": [
            "14\n"
          ]
        },
        {
          "output_type": "display_data",
          "data": {
            "text/plain": [
              "<Figure size 432x288 with 1 Axes>"
            ],
            "image/png": "[encoded data removed]"
          },
          "metadata": {
            "needs_background": "light"
          }
        },
        {
          "output_type": "stream",
          "name": "stdout",
          "text": [
            "15\n"
          ]
        }
      ]
    },
    {
      "cell_type": "markdown",
      "source": [
        "Question 7: What is the data type of the target column?"
      ],
      "metadata": {
        "id": "Lihvr0i_pDT5"
      }
    },
    {
      "cell_type": "code",
      "source": [
        "ytrain.dtypes"
      ],
      "metadata": {
        "id": "94U9RQSSpC8l",
        "colab": {
          "base_uri": "https://localhost:8080/"
        },
        "outputId": "4b87b026-e320-49ec-d96d-efabb3ae163f"
      },
      "execution_count": null,
      "outputs": [
        {
          "output_type": "execute_result",
          "data": {
            "text/plain": [
              "dtype('bool')"
            ]
          },
          "metadata": {},
          "execution_count": 280
        }
      ]
    },
    {
      "cell_type": "markdown",
      "source": [
        "### Task 9: Encode the target column in both training and testing data. Set it to 1 where it is true and 0 where it is False."
      ],
      "metadata": {
        "id": "A1yqdBM-pfD6"
      }
    },
    {
      "cell_type": "code",
      "source": [
        "ytrain = np.where(ytrain == True, 1, 0)\n",
        "ytest = np.where(ytest == True, 1, 0)"
      ],
      "metadata": {
        "id": "KSiAlJ-KpoA6"
      },
      "execution_count": null,
      "outputs": []
    },
    {
      "cell_type": "markdown",
      "source": [
        "# Now the data is ready for modelling!"
      ],
      "metadata": {
        "id": "s3Ib7rZSqDyR"
      }
    },
    {
      "cell_type": "markdown",
      "source": [
        "### Task 10: Fit a default Perceptron model to the training data. Keep the random_state as 42."
      ],
      "metadata": {
        "id": "IEIASOW8qM4z"
      }
    },
    {
      "cell_type": "code",
      "source": [
        "from sklearn.linear_model import Perceptron\n",
        "model_1 = Perceptron()\n",
        "model_1.fit(xtrain_, ytrain)\n",
        "yhat = model_1.predict(xtest_)"
      ],
      "metadata": {
        "id": "Q_QVzELgqIIk"
      },
      "execution_count": null,
      "outputs": []
    },
    {
      "cell_type": "markdown",
      "source": [
        "Question 8: What is the model score on the training data and the accuracy on the testing dataset?"
      ],
      "metadata": {
        "id": "WfaOTVFYq0Ud"
      }
    },
    {
      "cell_type": "code",
      "source": [
        "from sklearn.metrics import accuracy_score\n",
        "model_1.score(xtrain_, ytrain), accuracy_score(ytest, yhat)"
      ],
      "metadata": {
        "id": "Zf1Oqw2EqbU4",
        "colab": {
          "base_uri": "https://localhost:8080/"
        },
        "outputId": "f333a3fb-431d-46ce-93ad-b0442a3c6730"
      },
      "execution_count": null,
      "outputs": [
        {
          "output_type": "execute_result",
          "data": {
            "text/plain": [
              "(0.7684785734828875, 0.757906843013226)"
            ]
          },
          "metadata": {},
          "execution_count": 283
        }
      ]
    },
    {
      "cell_type": "markdown",
      "source": [
        "### Task 10: Fit a Perceptron model with the following params\n",
        "1. l2 penalty\n",
        "2. alpha = 0.001\n",
        "3. 3000 max interations"
      ],
      "metadata": {
        "id": "bEZ57d_CrCU1"
      }
    },
    {
      "cell_type": "code",
      "source": [
        "model_2 = Perceptron(alpha=0.001, max_iter=3000, penalty='l2')\n",
        "model_2.fit(xtrain_, ytrain)\n",
        "yhat2 = model_2.predict(xtest_)"
      ],
      "metadata": {
        "id": "A6IYm-mCrANI"
      },
      "execution_count": null,
      "outputs": []
    },
    {
      "cell_type": "code",
      "source": [
        "model_2.score(xtrain_, ytrain), accuracy_score(ytest, yhat2)"
      ],
      "metadata": {
        "id": "Yh2QJ9EQrO7D",
        "colab": {
          "base_uri": "https://localhost:8080/"
        },
        "outputId": "7fdd11b0-50d5-4910-d3d9-29c23fd33f8f"
      },
      "execution_count": null,
      "outputs": [
        {
          "output_type": "execute_result",
          "data": {
            "text/plain": [
              "(0.6988783433994823, 0.6912018401380103)"
            ]
          },
          "metadata": {},
          "execution_count": 285
        }
      ]
    },
    {
      "cell_type": "markdown",
      "source": [
        "Question 9: Does this model perform better than the default model?\n",
        "1. Yes\n",
        "2. No"
      ],
      "metadata": {
        "id": "gwi7Fo9YrcZX"
      }
    },
    {
      "cell_type": "markdown",
      "source": [
        "### Task 11: Fit a deafult Logistic regression model using SGD. Keep random_state = 42."
      ],
      "metadata": {
        "id": "PfDcYRierq8_"
      }
    },
    {
      "cell_type": "code",
      "source": [
        "from sklearn.linear_model import SGDClassifier\n",
        "sgd = SGDClassifier(random_state=42, loss = 'log')\n",
        "sgd_reg = sgd.fit(xtrain_, ytrain)\n",
        "yhat3 = sgd_reg.predict(xtest_)"
      ],
      "metadata": {
        "id": "WPQNKngNr4vc"
      },
      "execution_count": null,
      "outputs": []
    },
    {
      "cell_type": "markdown",
      "source": [
        "Question 10: What is the accuracy of this model on the test dataset?"
      ],
      "metadata": {
        "id": "vGsSwTvbr_Y9"
      }
    },
    {
      "cell_type": "code",
      "source": [
        "sgd.score(xtrain_,ytrain), accuracy_score(ytest,yhat3)"
      ],
      "metadata": {
        "id": "UluKGau9sG17",
        "colab": {
          "base_uri": "https://localhost:8080/"
        },
        "outputId": "2d07e121-d15f-4055-ad01-5b623b208ce6"
      },
      "execution_count": null,
      "outputs": [
        {
          "output_type": "execute_result",
          "data": {
            "text/plain": [
              "(0.7907679033649698, 0.7786083956296722)"
            ]
          },
          "metadata": {},
          "execution_count": 291
        }
      ]
    },
    {
      "cell_type": "markdown",
      "source": [
        "### Task 12: Fit a kmeans model to the Training data with the following parameters:\n",
        "1. n_clusters = 4\n",
        "2. random_state = 42\n",
        "\n",
        "Store the output clusters as a new feature in the training data.\n",
        "Predict the clusters for testing data and store them as a new feature too."
      ],
      "metadata": {
        "id": "Idd8NqAysJCa"
      }
    },
    {
      "cell_type": "code",
      "source": [
        "from sklearn.cluster import KMeans\n",
        "km = KMeans(random_state=42, n_clusters=4)\n",
        "km_reg = km.fit(xtrain_)\n",
        "pdxtrain_ = pd.DataFrame(xtrain_)\n",
        "pdxtest_ = pd.DataFrame(xtest_)\n",
        "pdxtrain_['cluster_label'] = km_reg.labels_\n",
        "pdxtest_['cluster_label'] = km_reg.predict(xtest_)"
      ],
      "metadata": {
        "id": "GEr5cd63s25J"
      },
      "execution_count": null,
      "outputs": []
    },
    {
      "cell_type": "markdown",
      "source": [
        "Question 11: What cluster labels are in the majority in the training data?"
      ],
      "metadata": {
        "id": "a_Q2WpvbtHG1"
      }
    },
    {
      "cell_type": "code",
      "source": [
        "pdxtrain_['cluster_label'].value_counts()"
      ],
      "metadata": {
        "id": "7xq2CRQ4tMzY",
        "colab": {
          "base_uri": "https://localhost:8080/"
        },
        "outputId": "04fce902-a399-46bf-edad-e0abb2712f79"
      },
      "execution_count": null,
      "outputs": [
        {
          "output_type": "execute_result",
          "data": {
            "text/plain": [
              "0    3939\n",
              "1    2285\n",
              "3     446\n",
              "2     284\n",
              "Name: cluster_label, dtype: int64"
            ]
          },
          "metadata": {},
          "execution_count": 295
        }
      ]
    },
    {
      "cell_type": "markdown",
      "source": [
        "Question 11: What cluster labels are in the majority in the testing data? Is this cluster label the same as the training data?"
      ],
      "metadata": {
        "id": "QqvjJMi1tWFD"
      }
    },
    {
      "cell_type": "code",
      "source": [
        "pdxtest_['cluster_label'].value_counts()"
      ],
      "metadata": {
        "id": "6bH-AB52tcTO",
        "colab": {
          "base_uri": "https://localhost:8080/"
        },
        "outputId": "d800a9b6-01c8-4060-db59-66843f96d793"
      },
      "execution_count": null,
      "outputs": [
        {
          "output_type": "execute_result",
          "data": {
            "text/plain": [
              "0    957\n",
              "1    585\n",
              "3    106\n",
              "2     91\n",
              "Name: cluster_label, dtype: int64"
            ]
          },
          "metadata": {},
          "execution_count": 296
        }
      ]
    },
    {
      "cell_type": "markdown",
      "source": [
        "### Task 13: Fit a gradient boosting Classifier model to the new data. Keeping the parameters as follows:\n",
        "1. learning_rate = 0.01\n",
        "2. n_estimators = 500\n",
        "3. maximum depth = 5\n",
        "4. random_state = 42"
      ],
      "metadata": {
        "id": "Wo9HVpEetpB4"
      }
    },
    {
      "cell_type": "code",
      "source": [
        "from sklearn.ensemble import GradientBoostingClassifier\n",
        "gbc = GradientBoostingClassifier(random_state=42, n_estimators =500, learning_rate = 0.01, max_depth=5)\n",
        "gbc_c = gbc.fit(xtrain_,ytrain)\n",
        "yhat4 = gbc_c.predict(xtest_)"
      ],
      "metadata": {
        "id": "XqNuIxW2toRZ"
      },
      "execution_count": null,
      "outputs": []
    },
    {
      "cell_type": "markdown",
      "source": [
        "Question 12: What is the training accuracy of the gradient boosting model?"
      ],
      "metadata": {
        "id": "VynQ9hmdt95k"
      }
    },
    {
      "cell_type": "code",
      "source": [
        "gbc.score(xtrain_,ytrain), accuracy_score(ytest,yhat4)"
      ],
      "metadata": {
        "id": "L2XxVGPxuGkT",
        "colab": {
          "base_uri": "https://localhost:8080/"
        },
        "outputId": "d79774ab-9b5d-42cd-e113-ecf3580c6cb1"
      },
      "execution_count": null,
      "outputs": [
        {
          "output_type": "execute_result",
          "data": {
            "text/plain": [
              "(0.8232671843543284, 0.7889591719378953)"
            ]
          },
          "metadata": {},
          "execution_count": 299
        }
      ]
    },
    {
      "cell_type": "markdown",
      "source": [
        "Question 13: Plot a confusion matrix of the Gradient boosting classifier. What are the TP, TN, FP, FN values?"
      ],
      "metadata": {
        "id": "riUzMzxluTfj"
      }
    },
    {
      "cell_type": "code",
      "source": [
        "from sklearn.metrics import confusion_matrix\n",
        "cm = confusion_matrix(ytest,yhat4)\n"
      ],
      "metadata": {
        "id": "yGs4bFMvt9eh"
      },
      "execution_count": null,
      "outputs": []
    },
    {
      "cell_type": "markdown",
      "source": [
        "Question 14: What is the the AUC (Area under the Curve) metric for the GradientBoostingClassifier Model?"
      ],
      "metadata": {
        "id": "5Xz9aUz9wivB"
      }
    },
    {
      "cell_type": "code",
      "source": [
        ""
      ],
      "metadata": {
        "id": "9WdBCQB9uk_2"
      },
      "execution_count": null,
      "outputs": []
    }
  ]
}