{
  "nbformat": 4,
  "nbformat_minor": 0,
  "metadata": {
    "colab": {
      "name": "PPA_5-11.ipynb",
      "provenance": [],
      "collapsed_sections": [],
      "authorship_tag": "ABX9TyMh8YTqKOU2MvHSk0yEa3Fq",
      "include_colab_link": true
    },
    "kernelspec": {
      "name": "python3",
      "display_name": "Python 3"
    },
    "language_info": {
      "name": "python"
    }
  },
  "cells": [
    {
      "cell_type": "markdown",
      "metadata": {
        "id": "view-in-github",
        "colab_type": "text"
      },
      "source": [
        "<a href=\"https://colab.research.google.com/github/Chintan-99/practice/blob/main/PPA_5_11.ipynb\" target=\"_parent\"><img src=\"https://colab.research.google.com/assets/colab-badge.svg\" alt=\"Open In Colab\"/></a>"
      ]
    },
    {
      "cell_type": "code",
      "execution_count": null,
      "metadata": {
        "colab": {
          "base_uri": "https://localhost:8080/",
          "height": 130
        },
        "id": "GqRkXQgsj4b2",
        "outputId": "4998da20-3937-48eb-8837-c592176a361c"
      },
      "outputs": [
        {
          "output_type": "error",
          "ename": "SyntaxError",
          "evalue": "ignored",
          "traceback": [
            "\u001b[0;36m  File \u001b[0;32m\"<ipython-input-1-4ee778f36ff8>\"\u001b[0;36m, line \u001b[0;32m13\u001b[0m\n\u001b[0;31m    define cross_entropy(y,sigmoid_vector,w,reg_type,reg_rate):\u001b[0m\n\u001b[0m                       ^\u001b[0m\n\u001b[0;31mSyntaxError\u001b[0m\u001b[0;31m:\u001b[0m invalid syntax\n"
          ]
        }
      ],
      "source": [
        "'''Define a function cross_entropy(y,sigmoid_vector,w,reg_type,reg_rate) having the \n",
        "following characteristics: \n",
        "\n",
        "Input:\n",
        "y: Actual output label vector\n",
        "sigmoid_vector: logistic value of predicted output \n",
        "w: weight vector\n",
        "reg_type: type of regularization as string, either 'l1' or 'l2'. Default 'l2'.\n",
        "reg_rate: regularization rate. Default value 0.\n",
        "Output:\n",
        "Binary cross entropy loss(float value)'''\n",
        "import numpy as np\n",
        "define cross_entropy(y,sigmoid_vector,w,reg_type,reg_rate):\n",
        "  y_hat=sigmoid_vector\n",
        "  loss=-np.sum(y*np.log(y_hat)+(1-y)np.log(1-y_hat))\n",
        "  if reg_type == 'l1':\n",
        "    penalty=(reg_rate/2)+np.sum(np.abs(w))\n",
        "  else:\n",
        "    penalty=(reg_rate/2)+np.sum(w*w)\n",
        "  loss=base_loss+penalty\n",
        "  return loss    "
      ]
    },
    {
      "cell_type": "code",
      "source": [
        "'''Write a function sigmoid(X) which returns logistic function of X, where X is a numpy array.\n",
        "\n",
        "Input: A numpy array X.\n",
        "Output: Logistic function of X.'''\n",
        "import numpy as np\n",
        "define sigmoid(X):\n",
        "  sig=1/(1+np.exp(-X))\n",
        "  return sig\n"
      ],
      "metadata": {
        "colab": {
          "base_uri": "https://localhost:8080/",
          "height": 130
        },
        "id": "j6iEymY2mPYv",
        "outputId": "9ad529f2-ea60-4038-a2ec-1af8ba8a946a"
      },
      "execution_count": null,
      "outputs": [
        {
          "output_type": "error",
          "ename": "SyntaxError",
          "evalue": "ignored",
          "traceback": [
            "\u001b[0;36m  File \u001b[0;32m\"<ipython-input-3-c143ceb6f000>\"\u001b[0;36m, line \u001b[0;32m6\u001b[0m\n\u001b[0;31m    define sigmoid(X):\u001b[0m\n\u001b[0m                 ^\u001b[0m\n\u001b[0;31mSyntaxError\u001b[0m\u001b[0;31m:\u001b[0m invalid syntax\n"
          ]
        }
      ]
    }
  ]
}